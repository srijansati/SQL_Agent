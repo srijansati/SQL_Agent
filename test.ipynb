{
 "cells": [
  {
   "cell_type": "code",
   "execution_count": 17,
   "id": "2da1d41a",
   "metadata": {},
   "outputs": [],
   "source": [
    "from langchain_community.agent_toolkits.sql.toolkit import SQLDatabaseToolkit  \n",
    "from langchain_community.utilities.sql_database import SQLDatabase  \n",
    "from langchain_core.prompts import ChatPromptTemplate, MessagesPlaceholder\n",
    "from langchain_core.pydantic_v1 import BaseModel, Field\n",
    "import os\n",
    "from dotenv import load_dotenv\n",
    "from langchain_groq import ChatGroq\n",
    "from typing_extensions import TypedDict\n",
    "from typing import Annotated, Literal\n",
    "from langgraph.graph.message import AnyMessage, add_messages\n",
    "from langgraph.graph import START, END, StateGraph\n",
    "from typing import Any\n",
    "from langchain_core.messages import ToolMessage\n",
    "from langchain_core.runnables import RunnableLambda, RunnableWithFallbacks\n",
    "from langgraph.prebuilt import ToolNode\n",
    "from langchain_core.messages import AIMessage\n"
   ]
  },
  {
   "cell_type": "code",
   "execution_count": 18,
   "id": "ba8e9ce0",
   "metadata": {},
   "outputs": [],
   "source": [
    "load_dotenv()\n",
    "os.environ['GROQ_API_KEY'] = os.getenv('GROQ_API_KEY')"
   ]
  },
  {
   "cell_type": "code",
   "execution_count": 19,
   "id": "a1fc7e73",
   "metadata": {},
   "outputs": [
    {
     "data": {
      "text/plain": [
       "<langchain_community.utilities.sql_database.SQLDatabase at 0x1b935263250>"
      ]
     },
     "execution_count": 19,
     "metadata": {},
     "output_type": "execute_result"
    }
   ],
   "source": [
    "db = SQLDatabase.from_uri(\"sqlite:///Report_Card.db\")\n",
    "db"
   ]
  },
  {
   "cell_type": "code",
   "execution_count": 20,
   "id": "696d0d9a",
   "metadata": {},
   "outputs": [],
   "source": [
    "llm =  ChatGroq(model= 'llama3')\n",
    "toolkit = SQLDatabaseToolkit(db=db, llm=llm)\n",
    "tools = toolkit.get_tools()"
   ]
  },
  {
   "cell_type": "code",
   "execution_count": 21,
   "id": "3fa8d595",
   "metadata": {},
   "outputs": [
    {
     "name": "stdout",
     "output_type": "stream",
     "text": [
      "sql_db_query\n",
      "sql_db_schema\n",
      "sql_db_list_tables\n",
      "sql_db_query_checker\n"
     ]
    }
   ],
   "source": [
    "for tool in tools:\n",
    "    print(tool.name)"
   ]
  },
  {
   "cell_type": "code",
   "execution_count": 22,
   "id": "688f8efb",
   "metadata": {},
   "outputs": [],
   "source": [
    "from langchain_core.tools import tool\n",
    "@tool\n",
    "\n",
    "def query_to_database(query:str) -> str:\n",
    "    '''\n",
    "    Execute a SQL Query against the database and return the result.\n",
    "    If the query is invalid and returns no result, an error message will be returned.\n",
    "    In case of an error, the user is advised to rewrite the query and try again.\n",
    "    '''\n",
    "    result = db.run_no_throw(query)\n",
    "    if not result:\n",
    "        return 'Error!! Query failed please rewrite the query.'\n",
    "    else:\n",
    "        return result"
   ]
  },
  {
   "cell_type": "code",
   "execution_count": 23,
   "id": "6232d374",
   "metadata": {},
   "outputs": [],
   "source": [
    "list_tables_tool = next((tool for tool in tools if tool.name == \"sql_db_list_tables\"), None)\n",
    "get_schema_tool = next((tool for tool in tools if tool.name == \"sql_db_schema\"), None)\n",
    "llm_to_get_schema=llm.bind_tools([get_schema_tool])"
   ]
  },
  {
   "cell_type": "code",
   "execution_count": 24,
   "id": "8c17ff52",
   "metadata": {},
   "outputs": [
    {
     "data": {
      "text/plain": [
       "RunnableBinding(bound=ChatGroq(client=<groq.resources.chat.completions.Completions object at 0x000001B9359B07D0>, async_client=<groq.resources.chat.completions.AsyncCompletions object at 0x000001B9359B11D0>, model_name='llama3', model_kwargs={}, groq_api_key=SecretStr('**********')), kwargs={'tools': [{'type': 'function', 'function': {'name': 'query_to_database', 'description': 'Execute a SQL Query against the database and return the result.\\nIf the query is invalid and returns no result, an error message will be returned.\\nIn case of an error, the user is advised to rewrite the query and try again.', 'parameters': {'properties': {'query': {'type': 'string'}}, 'required': ['query'], 'type': 'object'}}}]}, config={}, config_factories=[])"
      ]
     },
     "execution_count": 24,
     "metadata": {},
     "output_type": "execute_result"
    }
   ],
   "source": [
    "llm_with_tools = llm.bind_tools(tools= [query_to_database])\n",
    "llm_with_tools"
   ]
  },
  {
   "cell_type": "code",
   "execution_count": 25,
   "id": "82c7e5a0",
   "metadata": {},
   "outputs": [],
   "source": [
    "class State (TypedDict):\n",
    "    messages : Annotated[list[AnyMessage], add_messages]"
   ]
  },
  {
   "cell_type": "code",
   "execution_count": 26,
   "id": "25bde1a8",
   "metadata": {},
   "outputs": [],
   "source": [
    "def handle_tool_error(state:State):\n",
    "    error = state.get(\"error\") \n",
    "    tool_calls = state[\"messages\"][-1].tool_calls\n",
    "    return { \"messages\": [ ToolMessage(content=f\"Error: {repr(error)}\\n please fix your mistakes.\",tool_call_id=tc[\"id\"],) for tc in tool_calls ] }\n",
    "\n",
    "def create_node_from_tool_with_fallback(tools:list)-> RunnableWithFallbacks[Any, dict]:\n",
    "    return ToolNode(tools).with_fallbacks([RunnableLambda(handle_tool_error)], exception_key=\"error\")"
   ]
  },
  {
   "cell_type": "code",
   "execution_count": 27,
   "id": "5e9b0cf4",
   "metadata": {},
   "outputs": [],
   "source": [
    "list_tables=create_node_from_tool_with_fallback([list_tables_tool])\n",
    "get_schema=create_node_from_tool_with_fallback([get_schema_tool])\n",
    "query_database=create_node_from_tool_with_fallback([query_to_database])"
   ]
  },
  {
   "cell_type": "code",
   "execution_count": 28,
   "id": "5aa8dcab",
   "metadata": {},
   "outputs": [],
   "source": [
    "query_check_system = \"\"\"You are a SQL expert. Carefully review the SQL query for common mistakes, including:\n",
    "\n",
    "Issues with NULL handling (e.g., NOT IN with NULLs)\n",
    "Improper use of UNION instead of UNION ALL\n",
    "Incorrect use of BETWEEN for exclusive ranges\n",
    "Data type mismatches or incorrect casting\n",
    "Quoting identifiers improperly\n",
    "Incorrect number of arguments in functions\n",
    "Errors in JOIN conditions\n",
    "\n",
    "If you find any mistakes, rewrite the query to fix them. If it's correct, reproduce it as is.\"\"\"\n",
    "\n",
    "query_check_prompt = ChatPromptTemplate.from_messages([\n",
    "    {'role' : 'system', 'content' : query_check_system},\n",
    "    MessagesPlaceholder(variable_name= 'messages')\n",
    "])\n",
    "\n",
    "check_generated_query = query_check_prompt | llm_with_tools"
   ]
  },
  {
   "cell_type": "code",
   "execution_count": 29,
   "id": "ad46ca48",
   "metadata": {},
   "outputs": [],
   "source": [
    "class SubmitFinalAnswer(BaseModel):\n",
    "    '''\n",
    "    Submit the final answer to the user based on the query result.\n",
    "    '''\n",
    "\n",
    "    final_answer : str = Field(..., description= 'Final answer to the user')\n",
    "\n",
    "llm_with_final_answer = llm.bind_tools(tools= [SubmitFinalAnswer])"
   ]
  },
  {
   "cell_type": "code",
   "execution_count": 30,
   "id": "47fd752c",
   "metadata": {},
   "outputs": [],
   "source": [
    "query_gen_system_prompt = \"\"\"You are a SQL expert with a strong attention to detail.Given an input question, output a syntactically correct SQLite query to run, then look at the results of the query and return the answer.\n",
    "\n",
    "1. DO NOT call any tool besides SubmitFinalAnswer to submit the final answer.\n",
    "\n",
    "When generating the query:\n",
    "\n",
    "2. Output the SQL query that answers the input question without a tool call.\n",
    "\n",
    "3. Unless the user specifies a specific number of examples they wish to obtain, always limit your query to at most 5 results.\n",
    "\n",
    "4. You can order the results by a relevant column to return the most interesting examples in the database.\n",
    "\n",
    "5. Never query for all the columns from a specific table, only ask for the relevant columns given the question.\n",
    "\n",
    "6. If you get an error while executing a query, rewrite the query and try again.\n",
    "\n",
    "7. If you get an empty result set, you should try to rewrite the query to get a non-empty result set.\n",
    "\n",
    "8. NEVER make stuff up if you don't have enough information to answer the query... just say you don't have enough information.\n",
    "\n",
    "9. If you have enough information to answer the input question, simply invoke the appropriate tool to submit the final answer to the user.\n",
    "\n",
    "10. DO NOT make any DML statements (INSERT, UPDATE, DELETE, DROP etc.) to the database. Do not return any sql query except answer. \"\"\"\n",
    "\n",
    "query_gen_prompt = ChatPromptTemplate.from_messages([\n",
    "    {'role' : \"system\", 'content' :query_gen_system_prompt}, \n",
    "    MessagesPlaceholder(variable_name= 'messages')\n",
    "])\n",
    "\n",
    "query_generator = query_gen_prompt | llm_with_final_answer"
   ]
  },
  {
   "cell_type": "code",
   "execution_count": 32,
   "id": "60f77d01",
   "metadata": {},
   "outputs": [],
   "source": [
    "def first_tool_call(state : State) -> dict[str, list[AIMessage]]:\n",
    "    print(f'log of the state from first_tool_call, {state}')\n",
    "\n",
    "    return {'messages' : list(AIMessage(content= '', tool_calls= [{'name' : 'sql_db_list_tables', 'args' : {}, 'id' : 'tool101' }]))}"
   ]
  },
  {
   "cell_type": "code",
   "execution_count": 33,
   "id": "4006f915",
   "metadata": {},
   "outputs": [],
   "source": [
    "def check_the_given_query(state : State):\n",
    "    print(f'state from check the given query: {state}')\n",
    "\n",
    "    return {[\n",
    "        check_generated_query.invoke({\n",
    "        'messages' : [state['messages'][-1]]\n",
    "        })\n",
    "    ]}"
   ]
  },
  {
   "cell_type": "code",
   "execution_count": null,
   "id": "3ef302ed",
   "metadata": {},
   "outputs": [],
   "source": [
    "def generation_query(state : State):\n",
    "    "
   ]
  }
 ],
 "metadata": {
  "kernelspec": {
   "display_name": "mcp",
   "language": "python",
   "name": "python3"
  },
  "language_info": {
   "codemirror_mode": {
    "name": "ipython",
    "version": 3
   },
   "file_extension": ".py",
   "mimetype": "text/x-python",
   "name": "python",
   "nbconvert_exporter": "python",
   "pygments_lexer": "ipython3",
   "version": "3.13.5"
  }
 },
 "nbformat": 4,
 "nbformat_minor": 5
}
